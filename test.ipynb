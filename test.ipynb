{
 "cells": [
  {
   "cell_type": "code",
   "execution_count": 9,
   "id": "99ee2bce",
   "metadata": {},
   "outputs": [
    {
     "name": "stdout",
     "output_type": "stream",
     "text": [
      "test 1st cell\n"
     ]
    }
   ],
   "source": [
    "print('test 1st cell')"
   ]
  },
  {
   "cell_type": "code",
   "execution_count": 10,
   "id": "04fa9fdd",
   "metadata": {},
   "outputs": [
    {
     "name": "stdout",
     "output_type": "stream",
     "text": [
      "test 2nd cell\n"
     ]
    }
   ],
   "source": [
    "print('test 2nd cell')"
   ]
  },
  {
   "cell_type": "code",
   "execution_count": 11,
   "id": "efb852a2",
   "metadata": {},
   "outputs": [
    {
     "name": "stdout",
     "output_type": "stream",
     "text": [
      "test 3rd cell\n"
     ]
    }
   ],
   "source": [
    "print('test 3rd cell')"
   ]
  },
  {
   "cell_type": "code",
   "execution_count": 12,
   "id": "6aeccd2c",
   "metadata": {},
   "outputs": [
    {
     "name": "stdout",
     "output_type": "stream",
     "text": [
      "test 4th cell\n"
     ]
    }
   ],
   "source": [
    "print('test 4th cell')"
   ]
  },
  {
   "cell_type": "code",
   "execution_count": 13,
   "id": "dcc52d3b",
   "metadata": {},
   "outputs": [
    {
     "name": "stdout",
     "output_type": "stream",
     "text": [
      "test 5th cell\n"
     ]
    }
   ],
   "source": [
    "print('test 5th cell')"
   ]
  }
 ],
 "metadata": {
  "kernelspec": {
   "display_name": "Python 3",
   "language": "python",
   "name": "python3"
  },
  "language_info": {
   "codemirror_mode": {
    "name": "ipython",
    "version": 3
   },
   "file_extension": ".py",
   "mimetype": "text/x-python",
   "name": "python",
   "nbconvert_exporter": "python",
   "pygments_lexer": "ipython3",
   "version": "3.11.2"
  }
 },
 "nbformat": 4,
 "nbformat_minor": 5
}
