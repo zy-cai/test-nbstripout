{
 "cells": [
  {
   "cell_type": "code",
   "execution_count": null,
   "id": "99ee2bce",
   "metadata": {},
   "outputs": [],
   "source": [
    "print('test 1st cell')"
   ]
  },
  {
   "cell_type": "code",
   "execution_count": null,
   "id": "04fa9fdd",
   "metadata": {},
   "outputs": [],
   "source": [
    "print('test 2nd cell')"
   ]
  },
  {
   "cell_type": "code",
   "execution_count": null,
   "id": "efb852a2",
   "metadata": {},
   "outputs": [],
   "source": [
    "print('test 3rd cell')"
   ]
  },
  {
   "cell_type": "code",
   "execution_count": null,
   "id": "6aeccd2c",
   "metadata": {},
   "outputs": [],
   "source": [
    "print('test 4th cell')"
   ]
  },
  {
   "cell_type": "code",
   "execution_count": null,
   "id": "dcc52d3b",
   "metadata": {},
   "outputs": [],
   "source": [
    "print('test 5th cell')"
   ]
  }
 ],
 "metadata": {
  "kernelspec": {
   "display_name": "Python 3",
   "language": "python",
   "name": "python3"
  },
  "language_info": {
   "codemirror_mode": {
    "name": "ipython",
    "version": 3
   },
   "file_extension": ".py",
   "mimetype": "text/x-python",
   "name": "python",
   "nbconvert_exporter": "python",
   "pygments_lexer": "ipython3",
   "version": "3.11.2"
  }
 },
 "nbformat": 4,
 "nbformat_minor": 5
}
