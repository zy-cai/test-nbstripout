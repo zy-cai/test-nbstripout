{
 "cells": [
  {
   "cell_type": "code",
   "execution_count": null,
   "id": "a2a5a5d6",
   "metadata": {},
   "outputs": [],
   "source": [
    "print(\"test nbstripout - 2nd try - 17/06/2024\")"
   ]
  },
  {
   "cell_type": "code",
   "execution_count": null,
   "id": "c3209306",
   "metadata": {},
   "outputs": [],
   "source": [
    "print(\"test nbstripout - 2nd try - 17/06/2024\")"
   ]
  },
  {
   "cell_type": "code",
   "execution_count": null,
   "id": "0081497c",
   "metadata": {},
   "outputs": [],
   "source": [
    "print(\"test nbstripout - 2nd try - 17/06/2024\")"
   ]
  },
  {
   "cell_type": "code",
   "execution_count": null,
   "id": "5213f24d",
   "metadata": {},
   "outputs": [],
   "source": [
    "print(\"test nbstripout - 26/07/2024\")"
   ]
  }
 ],
 "metadata": {
  "kernelspec": {
   "display_name": "Python 3",
   "language": "python",
   "name": "python3"
  },
  "language_info": {
   "codemirror_mode": {
    "name": "ipython",
    "version": 3
   },
   "file_extension": ".py",
   "mimetype": "text/x-python",
   "name": "python",
   "nbconvert_exporter": "python",
   "pygments_lexer": "ipython3",
   "version": "3.11.2"
  }
 },
 "nbformat": 4,
 "nbformat_minor": 5
}
